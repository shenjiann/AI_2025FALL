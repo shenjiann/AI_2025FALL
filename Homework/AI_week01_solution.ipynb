{
 "cells": [
  {
   "cell_type": "markdown",
   "id": "cd07c551",
   "metadata": {},
   "source": [
    "# Python的基础命令\n",
    "## 习题"
   ]
  },
  {
   "cell_type": "markdown",
   "id": "65cb73e2",
   "metadata": {},
   "source": [
    "### 1. 编写函数 `initial(n)`\n",
    "\n",
    "编写函数 **`initial(n)`**，程序的输入为一个正整数 $n$，用于生成并返回一个字典。\n",
    "\n",
    "在该字典中：\n",
    "- 包含键 **`b1, b2, ..., bn`** 以及键 **`W1, W2, ..., Wn`**。\n",
    "- 对于 $i = 1, 2, \\dots, n$：\n",
    "  - 键 `bi` 对应的值为 **0**\n",
    "  - 键 `Wi` 对应的值为一个 **$2 \\times 2$** 的矩阵，每个元素从**标准正态分布**随机生成\n",
    "\n",
    "**提示**：\n",
    "- 标准正态分布的均值为 0，方差为 1。\n",
    "- 可以使用 `for` 循环和字典赋值完成。\n",
    "\n",
    "---"
   ]
  },
  {
   "cell_type": "code",
   "execution_count": 1,
   "id": "f232f161",
   "metadata": {},
   "outputs": [],
   "source": [
    "import numpy as np\n",
    "\n",
    "# 下面的程序对完成本题有帮助\n",
    "# new_dict = {}\n",
    "# new_dict['b'+str(1)] = 0\n",
    "# new_dict['W'+str(1)] = np.random.normal(size = (2,2))\n",
    "\n",
    "def initial(n):\n",
    "    \"\"\"\n",
    "    生成包含键 b1,...,bn 和 W1,...,Wn 的字典\n",
    "\n",
    "    参数：\n",
    "    n : int  \n",
    "        生成键的数量\n",
    "\n",
    "    返回：\n",
    "    dic : dict  \n",
    "        - bi: 值为 0（i 从 1 到 n）  \n",
    "        - Wi: 值为 2x2 标准正态分布随机矩阵（i 从 1 到 n）\n",
    "    \"\"\"\n",
    "    # 固定随机种子\n",
    "    np.random.seed(220)\n",
    "    \n",
    "    new_dict = {}\n",
    "   # 生成 b1 到 bn，值均为 0\n",
    "    for i in range(1, n + 1):\n",
    "        new_dict['b' + str(i)] = 0  # 键名为 b1...bn，值为整数 0\n",
    "\n",
    "    # 生成 W1 到 Wn，值为 2x2 的标准正态分布随机矩阵\n",
    "    for i in range(1, n + 1):\n",
    "        new_dict['W' + str(i)] = np.random.normal(size=(2, 2))  # 使用 numpy 生成 2x2 标准正态分布矩阵\n",
    "   \n",
    "    return new_dict   "
   ]
  },
  {
   "cell_type": "code",
   "execution_count": 2,
   "id": "2ed35f1e",
   "metadata": {},
   "outputs": [
    {
     "name": "stdout",
     "output_type": "stream",
     "text": [
      "你的结果应该是：\n",
      "{'b1': 0, 'b2': 0, 'W1': array([[-1.32435158, -1.46586981],\n",
      "[-1.24999112,  0.65461581]]), 'W2': array([[ 1.235651  , -1.12238969],\n",
      "[ 0.4145492 , -0.1932017 ]])}\n",
      "你的结果：\n",
      " {'b1': 0, 'b2': 0, 'W1': array([[-1.32435158, -1.46586981],\n",
      "       [-1.24999112,  0.65461581]]), 'W2': array([[ 1.235651  , -1.12238969],\n",
      "       [ 0.4145492 , -0.1932017 ]])}\n"
     ]
    }
   ],
   "source": [
    "# 测试本题结果\n",
    "print(\"你的结果应该是：\\n{'b1': 0, 'b2': 0, 'W1': array([[-1.32435158, -1.46586981],\\n[-1.24999112,  0.65461581]]), 'W2': array([[ 1.235651  , -1.12238969],\\n[ 0.4145492 , -0.1932017 ]])}\")\n",
    "print(\"你的结果：\\n\", initial(2))"
   ]
  },
  {
   "cell_type": "markdown",
   "id": "2387b918",
   "metadata": {},
   "source": [
    "### 2. 利用 `for` 循环编写如下两个关于字典的函数:\n",
    "\n",
    "#### 2.1 第一个函数 `generate_dict(n)`\n",
    "功能：生成字典 `new_dict`  \n",
    "输入：整数 `n`，表示字典中键值对的个数  \n",
    "键的命名规则：`b0`, `b1`, ..., `b(n-1)`  \n",
    "值的规则：依次为 `0, 1, ..., (n-1)`  \n",
    "\n",
    "例如：  \n",
    "当 `n = 100` 时，生成字典的最后一个 **键:值** 对应为：`b99: 99`\n",
    "\n",
    "\n",
    "#### 2.2 第二个函数 `update_dict(new_dict)`\n",
    "功能：用于更新第一个函数生成的字典  \n",
    "更新规则：将第 `i` 个键所对应的值 **增加 `i`**  \n",
    "\n",
    "例如：  \n",
    "原字典中 **键:值** 为：`b2: 2`\n",
    "更新后变为：`b2: 4`\n",
    "\n",
    "\n",
    "**提示**：\n",
    "- 使用 `for` 循环遍历并更新字典  \n",
    "- 可以利用字符串拼接生成键名，例如：`\"b\" + str(i)`"
   ]
  },
  {
   "cell_type": "code",
   "execution_count": 3,
   "id": "b37cac9a",
   "metadata": {},
   "outputs": [],
   "source": [
    "def generate_dict(n):\n",
    "    \"\"\"\n",
    "    生成包含键 b0, b1, ..., b(n-1) 的字典\n",
    "\n",
    "    参数：\n",
    "    n : int  \n",
    "        要生成键值对的数量\n",
    "\n",
    "    返回：\n",
    "    new_dict : dict  \n",
    "        - 键名为 b0...b(n-1)，值为对应索引 i（整数）\n",
    "    \"\"\"\n",
    "    new_dict = {}  # 初始化空字典，用于存放键值对\n",
    "\n",
    "    # 生成 b0 到 b(n-1)，值为对应索引 i\n",
    "    for i in range(n):\n",
    "        key = f\"b{i}\"            # 构造键名 \"b0\", \"b1\", ...\n",
    "        value = i                # 键对应的值为索引 i\n",
    "        new_dict[key] = value    # 添加到字典中\n",
    "\n",
    "    return new_dict  # 返回生成的字典"
   ]
  },
  {
   "cell_type": "code",
   "execution_count": 4,
   "id": "9b738273",
   "metadata": {},
   "outputs": [],
   "source": [
    "def update_dict(new_dict):\n",
    "    \"\"\"\n",
    "    更新输入字典中的值：每个键值加上当前索引 i\n",
    "\n",
    "    参数：\n",
    "    new_dict : dict  \n",
    "        原始字典，键名形如 \"b0\", \"b1\", ...，值为整数\n",
    "\n",
    "    返回：\n",
    "    new_dict : dict  \n",
    "        更新后的字典，原值加上索引 i\n",
    "    \"\"\"\n",
    "    n = len(new_dict) # 获取字典的键数量\n",
    "    \n",
    "    # 遍历 b0 到 b(n-1)，将值加上当前索引 i\n",
    "    for i in range(n):\n",
    "        key = f\"b{i}\"        # 取出第 i 个键名\n",
    "        new_dict[key] += i   # 值在原基础上加 i\n",
    "        \n",
    "    return new_dict"
   ]
  },
  {
   "cell_type": "code",
   "execution_count": 5,
   "id": "b670e7f8",
   "metadata": {},
   "outputs": [
    {
     "name": "stdout",
     "output_type": "stream",
     "text": [
      "你的结果：\n",
      " 'b99': 99\n",
      "{'b0': 0, 'b1': 2, 'b2': 4}\n",
      "你的结果应该是：\n",
      "'b99': 99\n",
      "{'b0': 0, 'b1': 2, 'b2': 4}\n"
     ]
    }
   ],
   "source": [
    "#测试本题结果\n",
    "d = generate_dict(100)\n",
    "last_key = next(reversed(d))\n",
    "last_value = d[last_key]\n",
    "last_pair = f\"'{last_key}': {last_value}\"\n",
    "print(\"你的结果：\\n\", last_pair)\n",
    "\n",
    "d = generate_dict(3)\n",
    "d = update_dict(d)\n",
    "print(d) \n",
    "print(\"你的结果应该是：\\n'b99': 99\\n{'b0': 0, 'b1': 2, 'b2': 4}\")"
   ]
  },
  {
   "cell_type": "markdown",
   "id": "37fd4d28",
   "metadata": {},
   "source": [
    "3. 假设我们有一个包含多个字典的列表 `student_info`，每个字典代表一个学生的信息，包含以下键：`'name'`（名字）、`'age'`（年龄）和`'scores'`（一个包含各科成绩的字典）。请编写一个 Python 程序 `ave_score(student_info, name)`，该程序的输入为字典列表 `student_info` 以及一个学生的名字 `name`。若该字典列表中包含这个学生的成绩，则输出该学生成绩的平均分；否则，输出字符串 `\"查无此人\"`。"
   ]
  },
  {
   "cell_type": "code",
   "execution_count": 6,
   "id": "402cbe1e",
   "metadata": {},
   "outputs": [],
   "source": [
    "student_info = [\n",
    "    {\"name\": \"Alice\", \"age\": 20, \"scores\": {\"Math\": 90, \"English\": 85, \"Science\": 82}},\n",
    "    {\"name\": \"Bob\", \"age\": 22, \"scores\": {\"Math\": 88,\"Physics\": 80,\"Chemistry\": 84}},\n",
    "    {\"name\": \"Charlie\", \"age\": 19, \"scores\": {\"Math\": 90,\"Biology\": 96,\"History\": 80}},\n",
    "]\n",
    "# 注意引号中的空格，可能造成报错"
   ]
  },
  {
   "cell_type": "code",
   "execution_count": 7,
   "id": "f92b2f4a",
   "metadata": {},
   "outputs": [],
   "source": [
    "def ave_score(student_info, name):\n",
    "    \"\"\"\n",
    "    根据给定学生名单和姓名，计算该学生的平均成绩。\n",
    "    如果学生不存在，则返回字符串 \"查无此人\"。\n",
    "\n",
    "    参数：\n",
    "    student_info : list[dict]  \n",
    "        每个元素为一个包含学生信息的字典，键包括：\n",
    "        - \"name\" : str，学生姓名\n",
    "        - \"age\" : int，学生年龄\n",
    "        - \"scores\" : dict[str, float]，科目成绩\n",
    "    name : str  \n",
    "        指定要查询的学生姓名\n",
    "\n",
    "    返回：\n",
    "    float 或 str  \n",
    "        - 若找到学生，返回其平均分（浮点数）\n",
    "        - 若找不到，返回字符串 \"查无此人\"\n",
    "    \"\"\"\n",
    "    # 遍历学生信息列表\n",
    "    for student in student_info:\n",
    "        # 检查当前学生姓名是否匹配\n",
    "        if student['name'] == name:\n",
    "            scores = student['scores']  # 获取该学生的成绩字典\n",
    "            avg = sum(scores.values()) / len(scores)  # 计算平均分\n",
    "            return avg  # 返回平均分\n",
    "\n",
    "    # 循环结束后未找到匹配学生，返回提示信息\n",
    "    return \"查无此人\""
   ]
  },
  {
   "cell_type": "code",
   "execution_count": 8,
   "id": "5c21f665",
   "metadata": {},
   "outputs": [
    {
     "name": "stdout",
     "output_type": "stream",
     "text": [
      "查找Bob的个人信息, 结果: \n",
      " 84.0\n",
      "查找李华的个人信息, 结果: \n",
      " 查无此人\n"
     ]
    }
   ],
   "source": [
    "#测试本题结果\n",
    "print(\"查找Bob的个人信息, 结果: \\n\", ave_score(student_info, \"Bob\"))\n",
    "print(\"查找李华的个人信息, 结果: \\n\", ave_score(student_info, \"李华\"))"
   ]
  },
  {
   "cell_type": "markdown",
   "id": "abfcd095",
   "metadata": {},
   "source": [
    "对照`student_info`发现**Bob**的平均分是84.0，列表中没有**李华**的信息。"
   ]
  },
  {
   "cell_type": "markdown",
   "id": "8c0ab0e5",
   "metadata": {},
   "source": [
    "# Numpy简介\n",
    "## 习题"
   ]
  },
  {
   "cell_type": "markdown",
   "id": "24f91cf3",
   "metadata": {},
   "source": [
    "### 1. 使用 `np.arange` 与 `reshape` 生成二维数组\n",
    "\n",
    "利用 NumPy 的 `np.arange` 以及 `reshape` 命令，写出生成如下二维数组 $X$ 的命令。\n",
    "\n",
    "**提示：**\n",
    "- `np.arange(start, stop)` 会生成一个一维数组。\n",
    "- `reshape(m, n)` 可以将一维数组调整为 $m \\times n$ 的二维数组。"
   ]
  },
  {
   "cell_type": "code",
   "execution_count": 9,
   "id": "9bb7685f",
   "metadata": {},
   "outputs": [
    {
     "name": "stdout",
     "output_type": "stream",
     "text": [
      "[[1 2 3]\n",
      " [4 5 6]\n",
      " [7 8 9]]\n",
      "[[1 2 3]\n",
      " [4 5 6]\n",
      " [7 8 9]]\n"
     ]
    }
   ],
   "source": [
    "X = np.array([[1,2,3],[4,5,6],[7,8,9]])\n",
    "print(X)\n",
    "\n",
    "#在下面用 np.arange 以及 .reshape() 函数写出生成以上数组的命令\n",
    "X = np.arange(1, 10).reshape(3, 3)\n",
    "print(X)"
   ]
  },
  {
   "cell_type": "markdown",
   "id": "f7b8a94a",
   "metadata": {},
   "source": [
    "### 2. 基于广播机制生成矩阵\n",
    "\n",
    "基于广播机制，生成一个 $5 \\times 5$ 的矩阵，其中第 $(i,j)$ 元素为：\n",
    "\n",
    "$A_{ij} = 2i + 3j$\n",
    "\n",
    "其中：\n",
    "- $i$ 表示行索引（从 0 开始）  \n",
    "- $j$ 表示列索引（从 0 开始）\n",
    "\n",
    "**提示**：\n",
    "- 可以使用 `np.arange` 生成行和列索引对应的数组。\n",
    "- 通过 reshape 调整形状\n"
   ]
  },
  {
   "cell_type": "code",
   "execution_count": 10,
   "id": "78108fdd",
   "metadata": {},
   "outputs": [
    {
     "name": "stdout",
     "output_type": "stream",
     "text": [
      "[[0]\n",
      " [1]\n",
      " [2]\n",
      " [3]\n",
      " [4]]\n",
      "[[0 1 2 3 4]]\n",
      "[[ 0  3  6  9 12]\n",
      " [ 2  5  8 11 14]\n",
      " [ 4  7 10 13 16]\n",
      " [ 6  9 12 15 18]\n",
      " [ 8 11 14 17 20]]\n"
     ]
    }
   ],
   "source": [
    "# 用 np.arange 以及 .reshape() 函数生成矩阵\n",
    "i = np.arange(5).reshape(5, 1)   # 5行1列，表示行索引\n",
    "j = np.arange(5).reshape(1, 5)   # 1行5列，表示列索引\n",
    "print(i)\n",
    "print(j)\n",
    "\n",
    "X = 2 * i + 3 * j\n",
    "print(X)"
   ]
  },
  {
   "cell_type": "markdown",
   "id": "cf6528d4",
   "metadata": {},
   "source": [
    "### 3. 基于广播机制，生成一个 $4 \\times 4$ 的范德蒙德矩阵，其中第 $(i,j)$ 元素为 $x_i^{\\,j-1}$，且 $x_i = i$。\n",
    "\n",
    "**提示**：  \n",
    "- 可以先使用 `np.arange` 生成行向量和列向量。  \n",
    "- 利用广播机制计算幂次。\n",
    "- 范德蒙德矩阵（Vandermonde Matrix）的定义是：第一列全部为 $x_i^0=1$，后续每列为前一列乘以 $x_i$。\n",
    "\n",
    "数学公式表示：  \n",
    "$A_{ij} = x_i^{j - 1}, \\quad x_i = i,\\quad i,j = 1,2,3,4$"
   ]
  },
  {
   "cell_type": "code",
   "execution_count": 11,
   "id": "7d8ec4a2",
   "metadata": {},
   "outputs": [
    {
     "name": "stdout",
     "output_type": "stream",
     "text": [
      "[[ 1  1  1  1]\n",
      " [ 1  2  4  8]\n",
      " [ 1  3  9 27]\n",
      " [ 1  4 16 64]]\n"
     ]
    }
   ],
   "source": [
    "import numpy as np\n",
    "# 生成列向量 x_i，形状 (4, 1)\n",
    "x = np.arange(1, 5).reshape(4, 1)\n",
    "\n",
    "# 行向量 (j)，形状 (1, 4)，注意第一列元素全部为1\n",
    "j = np.arange(1, 5).reshape(1, 4)  \n",
    "\n",
    "# 广播计算\n",
    "X = x ** (j - 1)\n",
    "\n",
    "print(X)"
   ]
  },
  {
   "cell_type": "markdown",
   "id": "ac01c08a",
   "metadata": {},
   "source": [
    "### 4. `for` 循环是 Python 编程中最重要的结构之一。\n",
    "\n",
    "有时候，如何**高效遍历多维数组的每个元素**对编程效率的提高至关重要。  \n",
    "在本习题中，我们考虑一个规模为 $n \\times n \\times n$ 的三维数组，并遍历其每个元素。  \n",
    "\n",
    "我们考虑如下两种不同的遍历方式：\n",
    "\n",
    "- **方式 1**：最内层循环遍历最后一维（`k` 变化最快）  \n",
    "- **方式 2**：最内层循环遍历第一维（`i` 变化最快）  \n",
    "\n",
    "考虑 $n \\in \\{100, 200, 300, 400\\}$，绘制 $n$ 与**两种循环方式耗时比值**（方式 2 / 方式 1）的散点图，并归纳你的发现，尝试解释其中原因。\n",
    "\n",
    "\n",
    "公式：\n",
    "$\\text{耗时比值} = \\frac{\\text{方式2耗时}}{\\text{方式1耗时}}$"
   ]
  },
  {
   "cell_type": "code",
   "execution_count": 12,
   "id": "43d800a9",
   "metadata": {},
   "outputs": [
    {
     "name": "stdout",
     "output_type": "stream",
     "text": [
      "n=100, 耗时比值=1.010\n",
      "n=200, 耗时比值=1.017\n",
      "n=300, 耗时比值=1.207\n",
      "n=400, 耗时比值=1.466\n"
     ]
    }
   ],
   "source": [
    "import time\n",
    "import numpy as np\n",
    "import matplotlib.pyplot as plt\n",
    "from pylab import mpl\n",
    "\n",
    "mpl.rcParams[\"font.sans-serif\"] = [\"SimHei\"] # 设置显示中文字体为宋体\n",
    "mpl.rcParams[\"axes.unicode_minus\"] = False # 处理负号显示问题\n",
    "\n",
    "\n",
    "# 不同 n 值\n",
    "n_values = [100, 200, 300, 400]\n",
    "ratios = []  # 存放耗时比\n",
    "\n",
    "for n in n_values:\n",
    "    np.random.seed(1)\n",
    "    X = np.random.randn(n, n, n)  # 随机生成三维数组\n",
    "\n",
    "    # 第一种遍历方式\n",
    "    begin_1 = time.time()\n",
    "    for i in range(n):\n",
    "        for j in range(n):\n",
    "            for k in range(n):\n",
    "                X[i, j, k] += 1\n",
    "    end_1 = time.time()\n",
    "\n",
    "    # 第二种遍历方式\n",
    "    begin_2 = time.time()\n",
    "    for k in range(n):\n",
    "        for j in range(n):\n",
    "            for i in range(n):\n",
    "                X[i, j, k] += 1\n",
    "    end_2 = time.time()\n",
    "\n",
    "    ratio = (end_2 - begin_2) / (end_1 - begin_1)\n",
    "    ratios.append(ratio)\n",
    "    print(f\"n={n}, 耗时比值={ratio:.3f}\")"
   ]
  },
  {
   "cell_type": "code",
   "execution_count": 13,
   "id": "f6a235b3",
   "metadata": {},
   "outputs": [
    {
     "name": "stderr",
     "output_type": "stream",
     "text": [
      "findfont: Generic family 'sans-serif' not found because none of the following families were found: SimHei\n",
      "findfont: Generic family 'sans-serif' not found because none of the following families were found: SimHei\n",
      "findfont: Generic family 'sans-serif' not found because none of the following families were found: SimHei\n",
      "findfont: Generic family 'sans-serif' not found because none of the following families were found: SimHei\n",
      "findfont: Generic family 'sans-serif' not found because none of the following families were found: SimHei\n",
      "findfont: Generic family 'sans-serif' not found because none of the following families were found: SimHei\n",
      "findfont: Generic family 'sans-serif' not found because none of the following families were found: SimHei\n",
      "/opt/miniconda3/envs/mlenv/lib/python3.12/site-packages/IPython/core/pylabtools.py:170: UserWarning: Glyph 32791 (\\N{CJK UNIFIED IDEOGRAPH-8017}) missing from font(s) DejaVu Sans.\n",
      "  fig.canvas.print_figure(bytes_io, **kw)\n",
      "/opt/miniconda3/envs/mlenv/lib/python3.12/site-packages/IPython/core/pylabtools.py:170: UserWarning: Glyph 26102 (\\N{CJK UNIFIED IDEOGRAPH-65F6}) missing from font(s) DejaVu Sans.\n",
      "  fig.canvas.print_figure(bytes_io, **kw)\n",
      "/opt/miniconda3/envs/mlenv/lib/python3.12/site-packages/IPython/core/pylabtools.py:170: UserWarning: Glyph 27604 (\\N{CJK UNIFIED IDEOGRAPH-6BD4}) missing from font(s) DejaVu Sans.\n",
      "  fig.canvas.print_figure(bytes_io, **kw)\n",
      "/opt/miniconda3/envs/mlenv/lib/python3.12/site-packages/IPython/core/pylabtools.py:170: UserWarning: Glyph 26041 (\\N{CJK UNIFIED IDEOGRAPH-65B9}) missing from font(s) DejaVu Sans.\n",
      "  fig.canvas.print_figure(bytes_io, **kw)\n",
      "/opt/miniconda3/envs/mlenv/lib/python3.12/site-packages/IPython/core/pylabtools.py:170: UserWarning: Glyph 24335 (\\N{CJK UNIFIED IDEOGRAPH-5F0F}) missing from font(s) DejaVu Sans.\n",
      "  fig.canvas.print_figure(bytes_io, **kw)\n",
      "findfont: Generic family 'sans-serif' not found because none of the following families were found: SimHei\n",
      "findfont: Generic family 'sans-serif' not found because none of the following families were found: SimHei\n",
      "/opt/miniconda3/envs/mlenv/lib/python3.12/site-packages/IPython/core/pylabtools.py:170: UserWarning: Glyph 19981 (\\N{CJK UNIFIED IDEOGRAPH-4E0D}) missing from font(s) DejaVu Sans.\n",
      "  fig.canvas.print_figure(bytes_io, **kw)\n",
      "/opt/miniconda3/envs/mlenv/lib/python3.12/site-packages/IPython/core/pylabtools.py:170: UserWarning: Glyph 21516 (\\N{CJK UNIFIED IDEOGRAPH-540C}) missing from font(s) DejaVu Sans.\n",
      "  fig.canvas.print_figure(bytes_io, **kw)\n",
      "/opt/miniconda3/envs/mlenv/lib/python3.12/site-packages/IPython/core/pylabtools.py:170: UserWarning: Glyph 20540 (\\N{CJK UNIFIED IDEOGRAPH-503C}) missing from font(s) DejaVu Sans.\n",
      "  fig.canvas.print_figure(bytes_io, **kw)\n",
      "/opt/miniconda3/envs/mlenv/lib/python3.12/site-packages/IPython/core/pylabtools.py:170: UserWarning: Glyph 19979 (\\N{CJK UNIFIED IDEOGRAPH-4E0B}) missing from font(s) DejaVu Sans.\n",
      "  fig.canvas.print_figure(bytes_io, **kw)\n",
      "/opt/miniconda3/envs/mlenv/lib/python3.12/site-packages/IPython/core/pylabtools.py:170: UserWarning: Glyph 20004 (\\N{CJK UNIFIED IDEOGRAPH-4E24}) missing from font(s) DejaVu Sans.\n",
      "  fig.canvas.print_figure(bytes_io, **kw)\n",
      "/opt/miniconda3/envs/mlenv/lib/python3.12/site-packages/IPython/core/pylabtools.py:170: UserWarning: Glyph 31181 (\\N{CJK UNIFIED IDEOGRAPH-79CD}) missing from font(s) DejaVu Sans.\n",
      "  fig.canvas.print_figure(bytes_io, **kw)\n",
      "/opt/miniconda3/envs/mlenv/lib/python3.12/site-packages/IPython/core/pylabtools.py:170: UserWarning: Glyph 36941 (\\N{CJK UNIFIED IDEOGRAPH-904D}) missing from font(s) DejaVu Sans.\n",
      "  fig.canvas.print_figure(bytes_io, **kw)\n",
      "/opt/miniconda3/envs/mlenv/lib/python3.12/site-packages/IPython/core/pylabtools.py:170: UserWarning: Glyph 21382 (\\N{CJK UNIFIED IDEOGRAPH-5386}) missing from font(s) DejaVu Sans.\n",
      "  fig.canvas.print_figure(bytes_io, **kw)\n",
      "findfont: Generic family 'sans-serif' not found because none of the following families were found: SimHei\n",
      "findfont: Generic family 'sans-serif' not found because none of the following families were found: SimHei\n",
      "findfont: Generic family 'sans-serif' not found because none of the following families were found: SimHei\n",
      "findfont: Generic family 'sans-serif' not found because none of the following families were found: SimHei\n",
      "findfont: Generic family 'sans-serif' not found because none of the following families were found: SimHei\n",
      "findfont: Generic family 'sans-serif' not found because none of the following families were found: SimHei\n",
      "findfont: Generic family 'sans-serif' not found because none of the following families were found: SimHei\n",
      "findfont: Generic family 'sans-serif' not found because none of the following families were found: SimHei\n",
      "findfont: Generic family 'sans-serif' not found because none of the following families were found: SimHei\n",
      "findfont: Generic family 'sans-serif' not found because none of the following families were found: SimHei\n",
      "findfont: Generic family 'sans-serif' not found because none of the following families were found: SimHei\n",
      "findfont: Generic family 'sans-serif' not found because none of the following families were found: SimHei\n",
      "findfont: Generic family 'sans-serif' not found because none of the following families were found: SimHei\n",
      "findfont: Generic family 'sans-serif' not found because none of the following families were found: SimHei\n",
      "findfont: Generic family 'sans-serif' not found because none of the following families were found: SimHei\n",
      "findfont: Generic family 'sans-serif' not found because none of the following families were found: SimHei\n",
      "findfont: Generic family 'sans-serif' not found because none of the following families were found: SimHei\n",
      "findfont: Generic family 'sans-serif' not found because none of the following families were found: SimHei\n",
      "findfont: Generic family 'sans-serif' not found because none of the following families were found: SimHei\n",
      "findfont: Generic family 'sans-serif' not found because none of the following families were found: SimHei\n",
      "findfont: Generic family 'sans-serif' not found because none of the following families were found: SimHei\n",
      "findfont: Generic family 'sans-serif' not found because none of the following families were found: SimHei\n",
      "findfont: Generic family 'sans-serif' not found because none of the following families were found: SimHei\n",
      "findfont: Generic family 'sans-serif' not found because none of the following families were found: SimHei\n",
      "findfont: Generic family 'sans-serif' not found because none of the following families were found: SimHei\n",
      "findfont: Generic family 'sans-serif' not found because none of the following families were found: SimHei\n",
      "findfont: Generic family 'sans-serif' not found because none of the following families were found: SimHei\n",
      "findfont: Generic family 'sans-serif' not found because none of the following families were found: SimHei\n",
      "findfont: Generic family 'sans-serif' not found because none of the following families were found: SimHei\n",
      "findfont: Generic family 'sans-serif' not found because none of the following families were found: SimHei\n",
      "findfont: Generic family 'sans-serif' not found because none of the following families were found: SimHei\n",
      "findfont: Generic family 'sans-serif' not found because none of the following families were found: SimHei\n",
      "findfont: Generic family 'sans-serif' not found because none of the following families were found: SimHei\n",
      "findfont: Generic family 'sans-serif' not found because none of the following families were found: SimHei\n",
      "findfont: Generic family 'sans-serif' not found because none of the following families were found: SimHei\n",
      "findfont: Generic family 'sans-serif' not found because none of the following families were found: SimHei\n",
      "findfont: Generic family 'sans-serif' not found because none of the following families were found: SimHei\n",
      "findfont: Generic family 'sans-serif' not found because none of the following families were found: SimHei\n",
      "findfont: Generic family 'sans-serif' not found because none of the following families were found: SimHei\n",
      "findfont: Generic family 'sans-serif' not found because none of the following families were found: SimHei\n"
     ]
    },
    {
     "data": {
      "image/png": "[encoded data removed]",
      "text/plain": [
       "<Figure size 640x480 with 1 Axes>"
      ]
     },
     "metadata": {},
     "output_type": "display_data"
    }
   ],
   "source": [
    "# 绘制散点图\n",
    "plt.scatter(n_values, ratios, color='blue')\n",
    "plt.plot(n_values, ratios, linestyle='--', color='gray')\n",
    "plt.xlabel('n')\n",
    "plt.ylabel('耗时比 (方式2 / 方式1)')\n",
    "plt.title('不同 n 值下两种遍历方式耗时比')\n",
    "plt.grid(True)\n",
    "plt.show()"
   ]
  },
  {
   "cell_type": "markdown",
   "id": "1b07add9",
   "metadata": {},
   "source": [
    "#### 发现\n",
    "1. 在多数情况下，比值 > 1;\n",
    "2. 比值随 n 增大整体呈上升趋势。\n",
    "\n",
    "可能的原因：\n",
    "- NumPy 默认按照 **行优先（C-order, row-major）** 存储数据，即内存上最后一个维度（axis=-1）是连续存储的。\n",
    "- 内存连续访问的数据在现代 CPU 缓存系统中速度更快，这直接影响遍历效率。"
   ]
  },
  {
   "cell_type": "markdown",
   "id": "790d9d08",
   "metadata": {},
   "source": [
    "### 5. 编写函数 `studentize(X)`\n",
    "\n",
    "`studentize(X)` 的输入是一个二维 **NumPy** 数组 $X$，程序需要对输入数组的每一列进行标准化处理，即输出结果的每一列均值为 0、方差为 1。\n",
    "\n",
    "具体地，我们需要将 $X$ 中每个元素减去对应位置的列均值，再除以对应位置的列标准差（可用 `np.std()` 计算标准差）。  \n",
    "\n",
    "该函数输出为一个与 $X$ 规模相同的标准化二维数组。\n",
    "\n",
    "---\n",
    "\n",
    "**要求：**\n",
    "1. 按列计算均值（`axis=0`）。\n",
    "2. 按列计算标准差（注意 `ddof=0` 计算总体标准差）。\n",
    "3. 使用广播机制进行标准化：  \n",
    "   $Z_{ij} = \\frac{X_{ij} - \\mu_j}{\\sigma_j}$\n",
    "4. 验证结果：标准化后每列均值应约等于 0，方差为 1。\n",
    "\n",
    "**提示**：可以使用 `np.mean()`、`np.std()`，善用广播机制避免循环。"
   ]
  },
  {
   "cell_type": "code",
   "execution_count": 14,
   "id": "c61dc5e8",
   "metadata": {},
   "outputs": [],
   "source": [
    "import numpy as np\n",
    "\n",
    "np.random.seed(1)\n",
    "X = np.random.normal(size=(1000, 6))\n",
    "\n",
    "def studentize(X):\n",
    "    \"\"\"\n",
    "    对二维 NumPy 数组 X 按列进行标准化处理（Studentization）。\n",
    "    标准化后每列的均值应为 0，方差为 1。\n",
    "\n",
    "    参数：\n",
    "    X : ndarray, shape (m, n)  \n",
    "        输入二维数组，每列为一个特征，每行一个样本\n",
    "\n",
    "    返回：\n",
    "    Z : ndarray, shape (m, n)  \n",
    "        标准化结果数组，每列均值为 0，方差为 1\n",
    "    \"\"\"\n",
    "    # 计算每列均值（axis=0 表示按列方向聚合），保留二维形状便于广播\n",
    "    col_mean = np.mean(X, axis=0)\n",
    "\n",
    "    # 计算每列标准差（ddof=0 表示计算总体标准差，与方差定义一致）\n",
    "    col_std = np.std(X, axis=0, ddof=0)\n",
    "\n",
    "    # 标准化：每个元素减去该列均值，再除以该列标准差\n",
    "    return (X - col_mean) / col_std"
   ]
  },
  {
   "cell_type": "code",
   "execution_count": 15,
   "id": "d7340456",
   "metadata": {},
   "outputs": [
    {
     "name": "stdout",
     "output_type": "stream",
     "text": [
      "每列均值： [-1.80966353e-17  3.24740235e-18  3.33066907e-17 -2.66453526e-18\n",
      " -7.08322290e-17 -2.08166817e-17]\n",
      "每列方差： [1. 1. 1. 1. 1. 1.]\n",
      "你的输出结果应该为：\n",
      "每列均值： [-1.89848137e-17  1.12410081e-17  2.53130850e-17 -1.13242749e-17\n",
      "-3.14193116e-17 -2.35367281e-17]\n",
      "每列方差： [1. 1. 1. 1. 1. 1.]\n"
     ]
    }
   ],
   "source": [
    "# 测试函数\n",
    "X_std = studentize(X)\n",
    "print(\"每列均值：\", np.mean(X_std, axis=0))\n",
    "print(\"每列方差：\", np.var(X_std, axis=0))\n",
    "print(\"你的输出结果应该为：\")\n",
    "print(\"每列均值： [-1.89848137e-17  1.12410081e-17  2.53130850e-17 -1.13242749e-17\\n-3.14193116e-17 -2.35367281e-17]\\n每列方差： [1. 1. 1. 1. 1. 1.]\")"
   ]
  },
  {
   "cell_type": "markdown",
   "id": "35f769eb",
   "metadata": {},
   "source": [
    "### 6. 编写函数 `BatchNormalization(X, beta, gamma)`\n",
    "\n",
    "#### 题目要求\n",
    "该程序的输入为一个二维 **NumPy** 数组 $X$，以及两个参数：\n",
    "- **beta.shape = (1, d)**\n",
    "- **gamma.shape = (1, d)**\n",
    "- 其中 $d = X.shape[1]$\n",
    "\n",
    "我们的目标是：\n",
    "- 将二维数组 $X$ 的**列均值变为** beta\n",
    "- 将二维数组 $X$ 的**列标准差变为** gamma\n",
    "\n",
    "\n",
    "#### 提示：\n",
    "- `np.mean`中使用 `keepdims=True` 可保持列向量的二维形状，方便广播。\n",
    "- 使用 `eps=1e-8` 避免标准差为 0 时除以 0 出错。\n",
    "- `beta` 和 `gamma` 都可以是不同列的不同参数。\n",
    "\n",
    "---\n",
    "**数学公式总结**：\n",
    "$Y = \\gamma \\cdot \\frac{X - \\mu}{\\sigma} + \\beta$"
   ]
  },
  {
   "cell_type": "code",
   "execution_count": 16,
   "id": "dbc492bb",
   "metadata": {},
   "outputs": [],
   "source": [
    "import numpy as np\n",
    "\n",
    "np.random.seed(1)\n",
    "X = np.random.randn(20, 100)\n",
    "\n",
    "def BatchNormalization(X, beta, gamma, eps=1e-8):\n",
    "    \"\"\"\n",
    "    对二维 NumPy 数组 X 在列维度 (axis=0) 执行批标准化（Batch Normalization）。\n",
    "\n",
    "    参数：\n",
    "    X : ndarray, shape (m, d)  \n",
    "        输入二维数据，其中 m 为样本数，d 为特征数\n",
    "    beta : ndarray, shape (1, d)  \n",
    "        偏置参数 β，用于平移标准化后的结果\n",
    "    gamma : ndarray, shape (1, d)  \n",
    "        缩放参数 γ，用于缩放标准化后的结果\n",
    "    eps : float, 默认 1e-8  \n",
    "        防止除零的小常数\n",
    "\n",
    "    返回：\n",
    "    Y : ndarray, shape (m, d)  \n",
    "        标准化并经过缩放和平移后的结果\n",
    "    \"\"\"\n",
    "    # Step 1: 计算按列的均值和标准差（保持二维形状以便广播操作）\n",
    "    col_mean = np.mean(X, axis=0, keepdims=True)  # 每列均值 μ\n",
    "    col_std = np.std(X, axis=0, ddof=0, keepdims=True)  # 每列总体标准差 σ\n",
    "\n",
    "    # Step 2: 按公式进行标准化 (X - μ) / (σ + eps)\n",
    "    X_norm = (X - col_mean) / (col_std + eps)  # 广播减除，得到均值为 0 方差为 1 的矩阵\n",
    "\n",
    "    # Step 3: 缩放和平移\n",
    "    return gamma * X_norm + beta  # Y = γ * X_norm + β"
   ]
  },
  {
   "cell_type": "code",
   "execution_count": 17,
   "id": "46763136",
   "metadata": {},
   "outputs": [
    {
     "name": "stdout",
     "output_type": "stream",
     "text": [
      "标准化后每列均值： [ 1.66533454e-17 -1.11022302e-17  8.32667268e-18  5.55111512e-18\n",
      "  1.88737914e-16]\n",
      "标准化后每列标准差： [0.99999999 0.99999999 0.99999998 0.99999999 0.99999999]\n",
      "你的输出结果应该为：\n",
      "标准化后每列均值： [ 5.55111512e-18 -1.11022302e-17  3.05311332e-17 -4.16333634e-17\n",
      "7.21644966e-17]\n",
      "标准化后每列标准差： [0.99999999 0.99999999 0.99999998 0.99999999 0.99999999]\n"
     ]
    }
   ],
   "source": [
    "# 测试运行\n",
    "d = X.shape[1]\n",
    "beta = np.zeros((1, d))\n",
    "gamma = np.ones((1, d))\n",
    "\n",
    "X_bn = BatchNormalization(X, beta, gamma)\n",
    "print(\"标准化后每列均值：\", np.mean(X_bn, axis=0)[:5])\n",
    "print(\"标准化后每列标准差：\", np.std(X_bn, axis=0)[:5])\n",
    "print(\"你的输出结果应该为：\")\n",
    "print(\"标准化后每列均值： [ 5.55111512e-18 -1.11022302e-17  3.05311332e-17 -4.16333634e-17\\n7.21644966e-17]\\n标准化后每列标准差： [0.99999999 0.99999999 0.99999998 0.99999999 0.99999999]\")"
   ]
  },
  {
   "cell_type": "markdown",
   "id": "2bed3412",
   "metadata": {},
   "source": [
    "**你的输出结果应该：**均值接近 0（浮点计算误差），方差接近 1。"
   ]
  },
  {
   "cell_type": "markdown",
   "id": "6b6e3dc1",
   "metadata": {},
   "source": [
    "### 7. 编写函数 `BatchNormalization2d(X, beta, gamma)`\n",
    "\n",
    "#### 题目要求\n",
    "输入：\n",
    "- **X**：四维 NumPy 数组，形状 $(N, C, H, W)$\n",
    "- **beta**：平移因子，形状 $(1, C, 1, 1)$\n",
    "- **gamma**：缩放因子，形状 $(1, C, 1, 1)$\n",
    "\n",
    "目标：\n",
    "- 将 $X$ 的第 0 维（batch 维）、第 2 维（高）以及第 3 维（宽）上的均值变为 `beta`\n",
    "- 将对应的标准差变为 `gamma`\n",
    "\n",
    "\n",
    "#### 提示\n",
    "- 使用 `axis=(0,2,3)` 在计算均值和标准差时聚合 N、H、W 三个维度。\n",
    "- 使用 `keepdims=True` 保证均值/标准差的形状方便广播。\n",
    "- 加一个很小的 `eps` 防止除以 0 错误。\n",
    "\n",
    "---\n",
    "**公式总结**：\n",
    "$Y = \\gamma \\cdot \\frac{X - \\mu}{\\sigma} + \\beta$"
   ]
  },
  {
   "cell_type": "code",
   "execution_count": 18,
   "id": "122d81e1",
   "metadata": {},
   "outputs": [],
   "source": [
    "import numpy as np\n",
    "\n",
    "np.random.seed(0)\n",
    "X = np.random.rand(20, 100, 35, 45)  # N=20, C=100, H=35, W=45\n",
    "\n",
    "def BatchNormalization2d(X, beta, gamma, eps=1e-8):\n",
    "    \"\"\"\n",
    "    对四维输入 X=(N,C,H,W) 在通道维进行 2D 批标准化\n",
    "\n",
    "    参数：\n",
    "    X : ndarray, shape (N, C, H, W)  \n",
    "        一个 batch 的特征图  \n",
    "    beta : ndarray, shape (1, C, 1, 1)  \n",
    "        偏置参数 β  \n",
    "    gamma : ndarray, shape (1, C, 1, 1)  \n",
    "        缩放参数 γ  \n",
    "    eps : float, 默认 1e-8  \n",
    "        防止除零的小常数\n",
    "\n",
    "    返回：\n",
    "    X_bn : ndarray, shape (N, C, H, W)  \n",
    "        批标准化并缩放、平移后的结果\n",
    "    \"\"\"\n",
    "    mean = np.mean(X, axis=(0, 2, 3), keepdims=True)  # 对 N,H,W 求均值\n",
    "    std = np.std(X, axis=(0, 2, 3), ddof=0, keepdims=True)  # 对 N,H,W 求标准差\n",
    "    X_norm = (X - mean) / (std + eps)                  # 标准化\n",
    "    \n",
    "    return gamma * X_norm + beta                       # 应用缩放和平移"
   ]
  },
  {
   "cell_type": "code",
   "execution_count": 19,
   "id": "573904c9",
   "metadata": {},
   "outputs": [
    {
     "name": "stdout",
     "output_type": "stream",
     "text": [
      "每个通道均值（前5个）： [-8.84230960e-17 -3.51549477e-16  9.22577711e-17  3.92490273e-17\n",
      "  1.29251107e-16]\n",
      "每个通道标准差（前5个）： [0.99999997 0.99999997 0.99999997 0.99999997 0.99999997]\n",
      "你的输出结果应该为：\n",
      "每个通道均值（前5个）： [-8.84230960e-17 -3.51549477e-16  9.22577711e-17  3.92490273e-17\n",
      "  1.29251107e-16]\n",
      "每个通道标准差（前5个）： [0.99999997 0.99999997 0.99999997 0.99999997 0.99999997]\n"
     ]
    }
   ],
   "source": [
    "# 测试\n",
    "C = X.shape[1]\n",
    "beta = np.zeros((1, C, 1, 1))\n",
    "gamma = np.ones((1, C, 1, 1))\n",
    "\n",
    "X_bn = BatchNormalization2d(X, beta, gamma)\n",
    "\n",
    "# 检查每个通道标准化后均值/方差\n",
    "print(\"每个通道均值（前5个）：\", np.mean(X_bn, axis=(0, 2, 3))[:5])\n",
    "print(\"每个通道标准差（前5个）：\", np.std(X_bn, axis=(0, 2, 3))[:5])\n",
    "print(\"你的输出结果应该为：\")\n",
    "print(\"每个通道均值（前5个）： [-8.84230960e-17 -3.51549477e-16  9.22577711e-17  3.92490273e-17\\n  1.29251107e-16]\\n每个通道标准差（前5个）： [0.99999997 0.99999997 0.99999997 0.99999997 0.99999997]\")"
   ]
  },
  {
   "cell_type": "markdown",
   "id": "9caa3506",
   "metadata": {},
   "source": [
    "### 8. 编写函数 `LayerNormalization(X, beta, gamma)`\n",
    "\n",
    "#### 题目要求\n",
    "输入：\n",
    "- **X**：四维 NumPy 数组，形状 $(N, C, H, W)$\n",
    "- **beta**：平移因子，形状 $(N, 1, 1, 1)$\n",
    "- **gamma**：缩放因子，形状 $(N, 1, 1, 1)$\n",
    "\n",
    "目标：\n",
    "- 对 **每个样本** 的 $C \\times H \\times W$ 个元素进行标准化，使其均值变为 `beta`，标准差变为 `gamma`。\n",
    "- 输出与 $X$ 形状相同的四维数组。\n",
    "\n",
    "\n",
    "#### 提示\n",
    "- 使用 `axis=(1, 2, 3)` 聚合通道、高、宽三个维度。\n",
    "- 使用 `keepdims=True` 方便广播运算。\n",
    "- 添加 `eps` 避免除以 0。\n",
    "\n",
    "---\n",
    "**公式总结：**\n",
    "$Y = \\gamma \\cdot \\frac{X - \\mu}{\\sigma} + \\beta$"
   ]
  },
  {
   "cell_type": "code",
   "execution_count": 20,
   "id": "4ed740da",
   "metadata": {},
   "outputs": [],
   "source": [
    "import numpy as np\n",
    "\n",
    "np.random.seed(0)\n",
    "X = np.random.randn(20, 100, 35, 45)  # (N, C, H, W)\n",
    "\n",
    "def LayerNormalization(X, beta, gamma, eps=1e-8):\n",
    "    \"\"\"\n",
    "    对四维输入 X=(N,C,H,W) 在通道维进行 2D 批标准化\n",
    "\n",
    "    参数：\n",
    "    X : ndarray, shape (N, C, H, W)  \n",
    "        一个 batch 的特征图  \n",
    "    beta : ndarray, shape (1, C, 1, 1)  \n",
    "        偏置参数 β  \n",
    "    gamma : ndarray, shape (1, C, 1, 1)  \n",
    "        缩放参数 γ  \n",
    "    eps : float, 默认 1e-8  \n",
    "        防止除零的小常数\n",
    "\n",
    "    返回：\n",
    "    X_bn : ndarray, shape (N, C, H, W)  \n",
    "        批标准化并缩放、平移后的结果\n",
    "    \"\"\"\n",
    "    # 按每个样本 (C, H, W) 计算均值与标准差\n",
    "    mean = np.mean(X, axis=(1, 2, 3), keepdims=True)  # shape (N, 1, 1, 1)\n",
    "    std = np.std(X, axis=(1, 2, 3), keepdims=True)    # shape (N, 1, 1, 1)\n",
    "    \n",
    "    # 标准化\n",
    "    X_norm = (X - mean) / (std + eps)\n",
    "    \n",
    "    # 缩放 + 平移\n",
    "    return gamma * X_norm + beta"
   ]
  },
  {
   "cell_type": "code",
   "execution_count": 21,
   "id": "bb49a5d4",
   "metadata": {},
   "outputs": [
    {
     "name": "stdout",
     "output_type": "stream",
     "text": [
      "每个样本LN后的均值（前5个）： [ 6.40616308e-18 -1.75943916e-17 -1.73237086e-17  2.25569122e-18\n",
      " -7.66935016e-18]\n",
      "每个样本LN后的标准差（前5个）： [0.99999999 0.99999999 0.99999999 0.99999999 0.99999999]\n",
      "你的输出结果应该为：\n",
      "每个样本LN后的均值（前5个）： [ 6.56406146e-18 -1.71883671e-17 -1.76846192e-17  2.21057740e-18\n",
      " -6.99264280e-18]\n",
      "每个样本LN后的标准差（前5个）： [0.99999999 0.99999999 0.99999999 0.99999999 0.99999999]\n"
     ]
    }
   ],
   "source": [
    "# 测试\n",
    "N = X.shape[0]\n",
    "beta = np.zeros((N, 1, 1, 1))\n",
    "gamma = np.ones((N, 1, 1, 1))\n",
    "\n",
    "X_ln = LayerNormalization(X, beta, gamma)\n",
    "\n",
    "# 检查每个样本（N 个）的均值和标准差\n",
    "print(\"每个样本LN后的均值（前5个）：\", np.mean(X_ln, axis=(1, 2, 3))[:5])\n",
    "print(\"每个样本LN后的标准差（前5个）：\", np.std(X_ln, axis=(1, 2, 3))[:5])\n",
    "print(\"你的输出结果应该为：\")\n",
    "print(\"每个样本LN后的均值（前5个）： [ 6.56406146e-18 -1.71883671e-17 -1.76846192e-17  2.21057740e-18\\n -6.99264280e-18]\\n每个样本LN后的标准差（前5个）： [0.99999999 0.99999999 0.99999999 0.99999999 0.99999999]\")"
   ]
  }
 ],
 "metadata": {
  "kernelspec": {
   "display_name": "mlenv",
   "language": "python",
   "name": "python3"
  },
  "language_info": {
   "codemirror_mode": {
    "name": "ipython",
    "version": 3
   },
   "file_extension": ".py",
   "mimetype": "text/x-python",
   "name": "python",
   "nbconvert_exporter": "python",
   "pygments_lexer": "ipython3",
   "version": "3.12.2"
  }
 },
 "nbformat": 4,
 "nbformat_minor": 5
}
