{
 "cells": [
  {
   "cell_type": "markdown",
   "id": "cd07c551",
   "metadata": {},
   "source": [
    "# 第3周课后作业\n",
    "## 一元变量的线性回归"
   ]
  },
  {
   "cell_type": "code",
   "execution_count": null,
   "id": "9fb243ae",
   "metadata": {},
   "outputs": [],
   "source": [
    "import matplotlib.pyplot as plt\n",
    "import numpy as np\n",
    "import time # 用来记录算法的计算时间\n",
    "\n",
    "plt.rcParams.update({\n",
    "    \"font.family\": [\"Times New Roman\"],  # 使用 Times 字体\n",
    "    \"mathtext.fontset\": \"stix\",        # 数学字体匹配 Times\n",
    "    \"font.size\": 12                    # 默认字号\n",
    "})"
   ]
  },
  {
   "cell_type": "markdown",
   "id": "65cb73e2",
   "metadata": {},
   "source": [
    "### 习题1\n",
    "在对一个统计模型进行蒙特卡洛模拟时，我们通常会考虑多种不同的设置。为了简化讨论，我们仅考虑样本量变化的情况。设样本量$n$分别取$\\{100, 300, 500, 1000\\}$，并使用图表来汇报以下结果。请注意，在所有图表中，样本量应作为$x$轴。\n",
    "\n",
    "#### 1.1 偏差盒状图\n",
    "以$y$轴表示偏差，分别绘制并讨论两个参数估计量在$1000$次蒙特卡洛模拟中的偏差。\n",
    "\n",
    "注：只需完善函数`plot_bias_boxplots_grouped`及相关调用。"
   ]
  },
  {
   "cell_type": "code",
   "execution_count": null,
   "id": "baea798c",
   "metadata": {},
   "outputs": [],
   "source": [
    "def train_data_generation(n, rn):\n",
    "    \"\"\"\n",
    "    生成样本数据 (x, y)\n",
    "\n",
    "    参数:\n",
    "        n : 样本量\n",
    "        rn: 随机种子\n",
    "\n",
    "    返回:\n",
    "        x : n*1 的特征向量，从 N(2, 2^2) 中生成\n",
    "        y : n*1 的标签向量，满足 y = 1 + x + ε，其中 ε ~ N(0,1)\n",
    "    \"\"\"\n",
    "    np.random.seed(rn)\n",
    "    x = np.random.normal(2, 2, (n,1))\n",
    "    epsilon = np.random.normal(0, 1, (n,1))\n",
    "    y = 1 + x + epsilon\n",
    "\n",
    "    return x, y #打包输出相关结果\n",
    "\n",
    "def estimation_summation(x,y):\n",
    "    \"\"\"\n",
    "    使用逐项求和方法计算 OLS 估计量\n",
    "\n",
    "    参数:\n",
    "        x : n*1 特征向量\n",
    "        y : n*1 标签向量\n",
    "\n",
    "    返回:\n",
    "        par_est : 长度为2的一维数组,[截距项估计值, 斜率项估计值]\n",
    "    \"\"\"\n",
    "\n",
    "    n = len(x)\n",
    "    #将截距项1加入到特征中，得到增广特征矩阵，记为aug_x\n",
    "    aug_x = np.concatenate((np.ones_like(x),x), axis = 1)\n",
    "    xx = np.zeros((2,2))\n",
    "    xy = np.zeros((2,1))\n",
    "\n",
    "    #计算'xx'和'xy'的求和\n",
    "    for i in range(n):\n",
    "        example_i = aug_x[i,:].reshape((2,1))\n",
    "        xx += example_i @ example_i.transpose()\n",
    "        xy += example_i * y[i]\n",
    "    #计算'xx'的逆矩阵\n",
    "    xx_inv = np.linalg.inv(xx)\n",
    "    #得到估计量\n",
    "    par_est = xx_inv @ xy\n",
    "    \n",
    "    return par_est.flatten()\n",
    "\n",
    "def estimation_vectorization(x,y):\n",
    "    \"\"\"\n",
    "    使用矩阵向量化方法计算 OLS 估计量\n",
    "\n",
    "    参数:\n",
    "        x : n*1 特征向量\n",
    "        y : n*1 标签向量\n",
    "\n",
    "    返回:\n",
    "        par_est : 长度为2的一维数组[截距项估计值, 斜率项估计值]\n",
    "    \"\"\"\n",
    "    #将截距项1加入到特征中，得到增广特征矩阵，记为aug_x\n",
    "    aug_x = np.concatenate((np.ones_like(x),x), axis = 1)\n",
    "    #通过X^TX获得'xx'，其中X是步骤2得到的增广矩阵\n",
    "    xx = aug_x.transpose() @ aug_x\n",
    "    #通过X^TY获得'xy'，其中Y的形状为nX1\n",
    "    xy = aug_x.transpose() @ y\n",
    "    #计算'xx'的逆矩阵\n",
    "    xx_inv = np.linalg.inv(xx)  \n",
    "    #获得估计器\n",
    "    par_est = xx_inv @ xy \n",
    "\n",
    "    return par_est.flatten()\n",
    "\n",
    "def calculate_bias(sample_sizes=(100, 300, 500, 1000), replications=1000, method=None):\n",
    "    \"\"\"\n",
    "    进行蒙特卡洛模拟并计算 OLS 估计量的偏差\n",
    "\n",
    "    参数:\n",
    "        sample_sizes : 元组，表示要模拟的样本量集合\n",
    "        replications : 每个样本量下的重复次数\n",
    "        method       : 用于估计参数的函数\n",
    "\n",
    "    返回:\n",
    "        bias_results ：字典｛样本量：偏差数组 维度(replications,2)}\n",
    "    \"\"\"\n",
    "    # 参数真值\n",
    "    true_beta = np.array([1.0, 1.0])\n",
    "    # 初始化结果容器\n",
    "    bias_results = {n: np.zeros((replications, 2)) for n in sample_sizes}\n",
    "    # 遍历样本量\n",
    "    for n in sample_sizes:\n",
    "        # 在每个样本量下进行 replications 次重复模拟\n",
    "        for r in range(replications):\n",
    "            # 生成数据\n",
    "            x, y = train_data_generation(n=n, rn=r)\n",
    "            # 调用指定估计方法\n",
    "            estimates = method(x, y)\n",
    "            # 保存偏差\n",
    "            bias_results[n][r,:] = estimates - true_beta\n",
    "\n",
    "    return bias_results"
   ]
  },
  {
   "cell_type": "code",
   "execution_count": null,
   "id": "ff636c99",
   "metadata": {},
   "outputs": [],
   "source": [
    "def plot_bias_boxplots_grouped(bias_results):\n",
    "    \"\"\"\n",
    "    绘制偏差的分组盒图 (grouped boxplot)\n",
    "\n",
    "    参数:\n",
    "        bias_results : 字典｛样本量：偏差数组 维度 (replications,2)}\n",
    "                      \n",
    "    返回:\n",
    "        None\n",
    "    \"\"\"\n",
    "    # 提取样本量及对应的截距、斜率偏差数据\n",
    "    ns = sorted(bias_results.keys())\n",
    "    bias_intercept = [bias_results[n][:, 0] for n in ns]\n",
    "    bias_slope     = # 请完善\n",
    "\n",
    "    # 初始化画布\n",
    "    fig, ax = plt.subplots(figsize=(6.5, 4.5))\n",
    "    positions = np.arange(len(ns)) * 3  # 每组盒图的横坐标位置\n",
    "\n",
    "    # 截距盒图（左边）\n",
    "    bp1 = ax.boxplot(\n",
    "        bias_intercept,\n",
    "        positions=positions - 0.4,\n",
    "        widths=0.8,\n",
    "        patch_artist=True,\n",
    "        boxprops=dict(facecolor=\"lightgray\")\n",
    "    )\n",
    "\n",
    "    # 斜率盒图（右边）\n",
    "    bp2 = ax.boxplot(\n",
    "\n",
    "\n",
    "\n",
    "\n",
    "\n",
    "    ) # 请完善\n",
    "    # 添加零基准线\n",
    "    ax.axhline(0, linestyle=\"--\", color=\"black\", linewidth=1)\n",
    "    # 设置坐标轴、标签、图例\n",
    "    ax.set_xticks(positions)\n",
    "    ax.set_xticklabels([str(n) for n in ns])\n",
    "    ax.set_xlabel(\"Sample size\")\n",
    "    ax.set_ylabel(\"Bias\")\n",
    "    ax.legend([bp1[\"boxes\"][0], bp2[\"boxes\"][0]], [\"Intercept\", \"Slope\"], loc=\"upper right\")\n",
    "    # 调整布局并显示\n",
    "    plt.tight_layout()\n",
    "    plt.show()"
   ]
  },
  {
   "cell_type": "code",
   "execution_count": null,
   "id": "d1399daf",
   "metadata": {},
   "outputs": [],
   "source": [
    "# 绘制求和方法的偏差盒状图\n",
    "bias_summation = \n",
    "plot_bias_boxplots_grouped(bias_summation)"
   ]
  },
  {
   "cell_type": "code",
   "execution_count": null,
   "id": "164f3df9",
   "metadata": {},
   "outputs": [],
   "source": [
    "# 绘制向量化方法的偏差盒状图\n",
    "bias_vectorization = \n",
    "plot_bias_boxplots_grouped(bias_vectorization)"
   ]
  },
  {
   "cell_type": "markdown",
   "id": "a0875f31",
   "metadata": {},
   "source": [
    "#### 1.2. 计算效率图表\n",
    "展示两种估计方法的计算效率，不同方法应使用不同的颜色。绘制图表并对结果进行评论。\n",
    "\n",
    "注：只需完善函数`plot_time_comparison`及相关调用。"
   ]
  },
  {
   "cell_type": "code",
   "execution_count": null,
   "id": "a817a19d",
   "metadata": {},
   "outputs": [],
   "source": [
    "def calculate_time(sample_sizes=(100, 300, 500, 1000), replications=1000, method=None):\n",
    "    \"\"\"\n",
    "    计算不同样本量下某种估计方法的运行时间\n",
    "\n",
    "    参数:\n",
    "        sample_sizes : 元组或列表，要测试的样本量\n",
    "        replications : int, 每个样本量下的重复次数\n",
    "        method : 估计方法函数\n",
    "\n",
    "    返回:\n",
    "        time_results : 字典 {样本量：耗时}\n",
    "    \"\"\"\n",
    "    # 初始化结果容器\n",
    "    time_results = {}\n",
    "    # 遍历不同样本量\n",
    "    for n in sample_sizes:\n",
    "        # 记录开始时间\n",
    "        T1 = time.time()\n",
    "        for r in range(replications):\n",
    "            # 生成数据，随机种子为r\n",
    "            x, y = train_data_generation(n=n, rn=r)\n",
    "            # 执行指定估计方法\n",
    "            par_est = method(x,y)\n",
    "        # 记录结束时间\n",
    "        T2 = time.time()\n",
    "        # 记录耗时\n",
    "        time_results[n] = T2 - T1\n",
    "        print(f'样本量:{n}, 方法:{method.__name__}, 耗时{time_results[n]:.4f}秒')\n",
    "    return time_results"
   ]
  },
  {
   "cell_type": "code",
   "execution_count": null,
   "id": "b9ef123b",
   "metadata": {},
   "outputs": [],
   "source": [
    "def plot_time_comparison(times_sum, times_vec):\n",
    "    \"\"\"\n",
    "    绘制两种方法的计算效率比较折线图\n",
    "\n",
    "    参数:\n",
    "        times_sum : 字典 {样本量: 耗时}\n",
    "        times_vec : 字典 {样本量: 耗时}\n",
    "\n",
    "    返回:\n",
    "        None\n",
    "    \"\"\"\n",
    "    ns = sorted(times_sum.keys())\n",
    "    time_sum = [times_sum[n] for n in ns]\n",
    "    time_vec = # 请完善\n",
    "    \n",
    "    # 初始化画布\n",
    "    plt.figure(figsize=(6.5, 4.5))\n",
    "     # 绘制 Summation 方法的折线图\n",
    "    plt.plot(ns, time_sum, marker=\"o\", color=\"black\", linestyle=\"-\", label=\"Summation\")\n",
    "    # 绘制 Vectorization 方法的折线图\n",
    "    plt.plot() # 请完善\n",
    "\n",
    "    # 设置坐标轴和标题\n",
    "    plt.xlabel(\"Sample size (n)\")\n",
    "    plt.ylabel(\"Computation time (seconds)\")\n",
    "    plt.title(\"Computation Efficiency Comparison\")\n",
    "    plt.legend()\n",
    "    \n",
    "    # 调整布局并显示\n",
    "    plt.tight_layout()\n",
    "    plt.show()"
   ]
  },
  {
   "cell_type": "code",
   "execution_count": null,
   "id": "4a1b8012",
   "metadata": {},
   "outputs": [],
   "source": [
    "times_vectorization = \n",
    "times_summation = \n",
    "plot_time_comparison(times_summation, times_vectorization)"
   ]
  },
  {
   "cell_type": "markdown",
   "id": "2387b918",
   "metadata": {},
   "source": [
    "### 习题2\n",
    "\n",
    "考虑 $n \\in \\{500, 1000, 1500, 2000, 3000\\}$等5种不同的情况，计算基于求和法和向量法的所需要的计算时间，并将两种方法所需要的计算时间画在一张图中，并简要分析你所得到的结果。\n",
    "\n",
    "注：只需调用`calculate_time`函数"
   ]
  },
  {
   "cell_type": "code",
   "execution_count": null,
   "id": "8931b4dd",
   "metadata": {},
   "outputs": [],
   "source": [
    "times_vectorization = \n",
    "times_summation = \n",
    "plot_time_comparison(times_summation, times_vectorization)"
   ]
  },
  {
   "cell_type": "markdown",
   "id": "3c9de7ef",
   "metadata": {},
   "source": [
    "### 习题3\n",
    "结合模型\n",
    "$$ y_i = b_0 + w_0 x_i + \\epsilon_i \\quad (i = 1, \\cdots, n), \\tag{1}$$\n",
    "其中 \n",
    "$\\epsilon_i \\sim N(0, 1)$\n",
    "为白噪声以及估计量\n",
    "$$ (\\hat{b},\\hat{w})\n",
    "=\\left(\\sum_{i=1}^{n}\\boldsymbol{\\tilde{x}_{i}}(\\boldsymbol{\\tilde{x}_{i}})^{\\mathrm{T}}\\right)^{-1}\\sum_{i=1}^{n}\\boldsymbol{\\tilde{x}_{i}}y_{i}\n",
    "=(\\boldsymbol{X}^{\\mathrm{T}}\\boldsymbol{X})^{-1}\\boldsymbol{X}^{\\mathrm{T}}\\boldsymbol{Y}. \\tag{4} $$\n",
    "其中 \n",
    "$\\boldsymbol{\\tilde{x}_{i}} = (1, x_i)^{\\mathrm{T}}$, $\\boldsymbol{X}=(\\tilde{\\boldsymbol{x}}_i,\\ldots,\\tilde{\\boldsymbol{x}}_n)^\\mathrm{т}\\in\\mathbb{R}^{n\\times2}$ \n",
    "以及 \n",
    "$\\boldsymbol{Y}=(y_1,\\ldots,y_n)^\\mathrm{T}$. \n",
    "证明 (4) 中的估计量是统计无偏的，即 $E(\\hat b) = b_0$ 以及 $E(\\hat w) = w_0$."
   ]
  },
  {
   "cell_type": "markdown",
   "id": "7a9534b2",
   "metadata": {},
   "source": [
    "解：请输入$\\LaTeX$或者在此处粘贴手写图片"
   ]
  },
  {
   "cell_type": "markdown",
   "id": "8c0ab0e5",
   "metadata": {},
   "source": [
    "# 回归模型"
   ]
  },
  {
   "cell_type": "markdown",
   "id": "a3927253",
   "metadata": {},
   "source": [
    "### 习题1\n",
    "基于估计量\n",
    "$$\\hat{\\boldsymbol{\\theta}}=(\\boldsymbol{X}^{\\mathrm{T}}\\boldsymbol{X})^{-1}\\boldsymbol{X}^{\\mathrm{T}}\\boldsymbol{Y} \\tag{11}$$\n",
    "所得到的 $\\hat{\\boldsymbol{\\theta}}$ 是否满足 $\\sum_{i=1}^n(y_i-\\tilde{\\boldsymbol{x}}_i^\\mathrm{T}\\hat{\\boldsymbol{\\theta}})=0$？为什么？"
   ]
  },
  {
   "cell_type": "markdown",
   "id": "64f9eae5",
   "metadata": {},
   "source": [
    "解：请输入$\\LaTeX$或者在此处粘贴手写图片"
   ]
  },
  {
   "cell_type": "markdown",
   "id": "5e119d35",
   "metadata": {},
   "source": [
    "### 习题2"
   ]
  },
  {
   "cell_type": "markdown",
   "id": "2dafa4b9",
   "metadata": {},
   "source": [
    "记 \n",
    "$\\boldsymbol{x}=(x_1,\\ldots,x_d)^\\mathrm{т}\\in\\mathbb{R}^d$, \n",
    "$\\boldsymbol{a}=(a_1,\\ldots,a_d)^\\mathrm{т}\\in\\mathbb{R}^d$, \n",
    "$\\boldsymbol{A}=(a_{ij})\\in\\mathbb{R}^{d\\times d}$ 回答如下问题：\n",
    "\n",
    "### 2.1 \n",
    "假设向量 $\\boldsymbol{a}$ 为定值，考虑关于 $\\boldsymbol{x}$ 的函数 $f(\\boldsymbol{x})=\\boldsymbol{x}^\\mathrm{T}\\boldsymbol{a}=\\sum_{i=1}^dx_ia_i$。对于$i=1,\\ldots,d,$ 计算 $\\partial f(\\boldsymbol{x})/\\partial x_i$ 并证明如下结论：\n",
    "$$\\frac{\\partial f(\\boldsymbol{x})}{\\partial \\boldsymbol{x}} = \\boldsymbol{a}.$$"
   ]
  },
  {
   "cell_type": "markdown",
   "id": "202ed5fa",
   "metadata": {},
   "source": [
    "解：请输入$\\LaTeX$或者在此处粘贴手写图片"
   ]
  },
  {
   "cell_type": "markdown",
   "id": "2f5764ab",
   "metadata": {},
   "source": [
    "#### 2.2 \n",
    "假设矩阵 $\\boldsymbol{A}$为定值，考虑关于 $\\boldsymbol{x}$的函数\n",
    "$g(\\boldsymbol{x})=\\boldsymbol{x}^\\mathrm{T}\\boldsymbol{A}\\boldsymbol{x}=\\sum_{i=1}^d\\sum_{j=1}^da_{ij}x_ix_j$。\n",
    "对于$i=1,\\ldots,d$ 以及 $j=1,\\ldots,d$ 计算 \n",
    "$\\partial g(\\boldsymbol{x})/\\partial x_i$ \n",
    "以及 \n",
    "$\\partial^2g(\\boldsymbol{x})/(\\partial x_i\\partial x_j)$，\n",
    "并证明如下两个结论：\n",
    "$$ \\frac{\\partial g(\\boldsymbol{x})}{\\partial\\boldsymbol{x}}=(\\boldsymbol{A}+\\boldsymbol{A}^\\mathrm{T})\\boldsymbol{x}, $$\n",
    "$$ \\frac{\\partial^2g(\\boldsymbol{x})}{\\partial\\boldsymbol{x}^\\mathrm{T}\\partial\\boldsymbol{x}}=\\boldsymbol{A}+\\boldsymbol{A}^\\mathrm{T}。 $$"
   ]
  },
  {
   "cell_type": "markdown",
   "id": "555e8ec6",
   "metadata": {},
   "source": [
    "解：请输入$\\LaTeX$或者在此处粘贴手写图片"
   ]
  },
  {
   "cell_type": "markdown",
   "id": "e4631a7e",
   "metadata": {},
   "source": [
    "#### 2.3"
   ]
  },
  {
   "cell_type": "markdown",
   "id": "ef04e2ed",
   "metadata": {},
   "source": [
    "结合代价函数\n",
    "$$\n",
    "\\mathcal{J}(\\boldsymbol{\\theta})=\\frac{1}{n}\\sum_{i=1}^{n}(y_{i}-\\tilde{\\boldsymbol{x}}_{i}^{\\mathrm{T}}\\boldsymbol{\\theta})^{2}=\\frac{1}{n}(\\boldsymbol{Y}-\\boldsymbol{X}\\boldsymbol{\\theta})^{\\mathrm{T}}(\\boldsymbol{Y}-\\boldsymbol{X}\\boldsymbol{\\theta}), \\tag{8}\n",
    "$$\n",
    "以及一阶条件\n",
    "$$\n",
    "\\frac{\\partial\\mathcal{J}}{\\partial\\boldsymbol{\\theta}}(\\hat{\\boldsymbol{\\theta}})=0 \\tag{9}\n",
    "$$\n",
    "证明OLS参数估计量$\\boldsymbol{\\hat \\theta}$为\n",
    "$$\n",
    "\\hat{\\boldsymbol{\\theta}}=(\\boldsymbol{X}^{\\mathrm{T}}\\boldsymbol{X})^{-1}\\boldsymbol{X}^{\\mathrm{T}}\\boldsymbol{Y}\n",
    "$$"
   ]
  },
  {
   "cell_type": "markdown",
   "id": "ee3192a6",
   "metadata": {},
   "source": [
    "解：请输入$\\LaTeX$或者在此处粘贴手写图片"
   ]
  }
 ],
 "metadata": {
  "kernelspec": {
   "display_name": "mlenv",
   "language": "python",
   "name": "python3"
  },
  "language_info": {
   "codemirror_mode": {
    "name": "ipython",
    "version": 3
   },
   "file_extension": ".py",
   "mimetype": "text/x-python",
   "name": "python",
   "nbconvert_exporter": "python",
   "pygments_lexer": "ipython3",
   "version": "3.12.2"
  }
 },
 "nbformat": 4,
 "nbformat_minor": 5
}
