{
 "cells": [
  {
   "cell_type": "markdown",
   "id": "d3b7df70",
   "metadata": {},
   "source": [
    "# 第3周课后作业\n",
    "## 一元变量的线性回归"
   ]
  },
  {
   "cell_type": "code",
   "execution_count": null,
   "id": "7de2321c",
   "metadata": {},
   "outputs": [],
   "source": []
  },
  {
   "cell_type": "markdown",
   "id": "b6bbb3b2",
   "metadata": {},
   "source": [
    "### 习题1\n",
    "在对一个统计模型进行蒙特卡洛模拟时，我们通常会考虑多种不同的设置。为了简化讨论，我们仅考虑样本量变化的情况。设样本量$n$分别取$\\{100, 300, 500, 1000\\}$，并使用图表来汇报以下结果。请注意，在所有图表中，样本量应作为$x$轴。\n",
    "\n",
    "#### 1.1 偏差盒状图\n",
    "以$y$轴表示偏差，分别绘制并讨论两个参数估计量在$1000$次蒙特卡洛模拟中的偏差。\n"
   ]
  },
  {
   "cell_type": "code",
   "execution_count": null,
   "id": "1ff7fab2",
   "metadata": {},
   "outputs": [],
   "source": []
  },
  {
   "cell_type": "code",
   "execution_count": null,
   "id": "e6fe6118",
   "metadata": {},
   "outputs": [],
   "source": [
    "def calculate_bias(sample_sizes=(100, 300, 500, 1000), replications=1000, method=None):\n",
    "    # 计算估计量\n",
    "    true_beta = np.array([1.0, 1.0])\n",
    "    bias_results = {n: np.zeros((replications, 2)) for n in sample_sizes}\n",
    "\n",
    "    for n in sample_sizes:\n",
    "        for r in range(replications):\n",
    "            x, y = train_data_generation(n=n, rn=r)\n",
    "            estimates = method(x, y)\n",
    "            bias_results[n][r,:] = estimates - true_beta\n",
    "\n",
    "    return bias_results"
   ]
  }
 ],
 "metadata": {
  "kernelspec": {
   "display_name": "mlenv",
   "language": "python",
   "name": "python3"
  },
  "language_info": {
   "codemirror_mode": {
    "name": "ipython",
    "version": 3
   },
   "file_extension": ".py",
   "mimetype": "text/x-python",
   "name": "python",
   "nbconvert_exporter": "python",
   "pygments_lexer": "ipython3",
   "version": "3.12.2"
  }
 },
 "nbformat": 4,
 "nbformat_minor": 5
}
