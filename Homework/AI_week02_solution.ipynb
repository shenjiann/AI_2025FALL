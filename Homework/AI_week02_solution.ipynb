{
 "cells": [
  {
   "cell_type": "markdown",
   "id": "cd07c551",
   "metadata": {},
   "source": [
    "# 第3周课后作业\n",
    "截止时间：9月23日23:59\n",
    "\n",
    "## 一元变量的线性回归"
   ]
  },
  {
   "cell_type": "markdown",
   "id": "65cb73e2",
   "metadata": {},
   "source": [
    "### 习题1\n",
    "在对一个统计模型进行蒙特卡洛模拟时，我们通常会考虑多种不同的设置。为了简化讨论，我们仅考虑样本量变化的情况。设样本量$n$分别取$\\{100, 300, 500, 1000\\}$，并使用图表来汇报以下结果。请注意，在所有图表中，样本量应作为$x$轴。\n",
    "\n",
    "#### 1.1 偏差盒状图\n",
    "以$y$轴表示偏差，分别绘制并讨论两个参数估计量在$1000$次蒙特卡洛模拟中的偏差。\n"
   ]
  },
  {
   "cell_type": "code",
   "execution_count": null,
   "id": "f232f161",
   "metadata": {},
   "outputs": [],
   "source": []
  },
  {
   "cell_type": "markdown",
   "id": "a0875f31",
   "metadata": {},
   "source": [
    "#### 1.2. 计算效率图表\n",
    "展示两种估计方法的计算效率，不同方法应使用不同的颜色。绘制图表并对结果进行评论。"
   ]
  },
  {
   "cell_type": "code",
   "execution_count": null,
   "id": "a817a19d",
   "metadata": {},
   "outputs": [],
   "source": []
  },
  {
   "cell_type": "markdown",
   "id": "2387b918",
   "metadata": {},
   "source": [
    "### 习题2\n",
    "\n",
    "考虑 $n \\in \\{500, 1000, 1500, 2000, 3000\\}$等5种不同的情况，计算基于求和法和向量法的所需要的计算时间，并将两种方法所需要的计算时间画在一张图中，并简要分析你所得到的结果。"
   ]
  },
  {
   "cell_type": "code",
   "execution_count": null,
   "id": "8931b4dd",
   "metadata": {},
   "outputs": [],
   "source": []
  },
  {
   "cell_type": "markdown",
   "id": "3c9de7ef",
   "metadata": {},
   "source": [
    "### 习题3\n",
    "结合模型\n",
    "$$ y_i = b_0 + w_0 x_i + \\epsilon_i \\quad (i = 1, \\cdots, n), \\tag{1}$$\n",
    "其中 \n",
    "$\\epsilon_i \\sim N(0, 1)$\n",
    "为白噪声以及估计量\n",
    "$$ (\\hat{b},\\hat{w})\n",
    "=\\left(\\sum_{i=1}^{n}\\boldsymbol{\\tilde{x}_{i}}(\\boldsymbol{\\tilde{x}_{i}})^{\\mathrm{T}}\\right)^{-1}\\sum_{i=1}^{n}\\boldsymbol{\\tilde{x}_{i}}y_{i}\n",
    "=(\\boldsymbol{X}^{\\mathrm{T}}\\boldsymbol{X})^{-1}\\boldsymbol{X}^{\\mathrm{T}}\\boldsymbol{Y}. \\tag{4} $$\n",
    "其中 \n",
    "$\\boldsymbol{\\tilde{x}_{i}} = (1, x_i)^{\\mathrm{T}}$, $\\boldsymbol{X}=(\\tilde{\\boldsymbol{x}}_i,\\ldots,\\tilde{\\boldsymbol{x}}_n)^\\mathrm{т}\\in\\mathbb{R}^{n\\times2}$ \n",
    "以及 \n",
    "$\\boldsymbol{Y}=(y_1,\\ldots,y_n)^\\mathrm{T}$. \n",
    "证明 (4) 中的估计量是统计无偏的，即 $E(\\hat b) = b_0$ 以及 $E(\\hat w) = w_0$."
   ]
  },
  {
   "cell_type": "markdown",
   "id": "917beecb",
   "metadata": {},
   "source": [
    "解：记 $\\theta = (b, w)^\\mathrm{T}$, 我们有$y_i = (\\boldsymbol{\\tilde{x}_{i}})^{\\mathrm{T}} \\theta_0 + \\epsilon_i$，代入 (4):\n",
    "\n",
    "$$\n",
    "\\begin{aligned}\n",
    "\\hat\\theta\n",
    "& = \\left(\\sum_{i=1}^{n}\\boldsymbol{\\tilde{x}_{i}}(\\boldsymbol{\\tilde{x}_{i}})^{\\mathrm{T}}\\right)^{-1}\\sum_{i=1}^{n}\\boldsymbol{\\tilde{x}_{i}}y_{i} \\\\ \n",
    "& = \\left(\\sum_{i=1}^{n}\\boldsymbol{\\tilde{x}_{i}}(\\boldsymbol{\\tilde{x}_{i}})^{\\mathrm{T}}\\right)^{-1}\\sum_{i=1}^{n}\\boldsymbol{\\tilde{x}_{i}} [(\\boldsymbol{\\tilde{x}_{i}})^{\\mathrm{T}} \\theta_0 + \\epsilon_i] \\\\\n",
    "& = \\left(\\sum_{i=1}^{n}\\boldsymbol{\\tilde{x}_{i}}(\\boldsymbol{\\tilde{x}_{i}})^{\\mathrm{T}}\\right)^{-1} \\left(\\sum_{i=1}^{n}\\boldsymbol{\\tilde{x}_{i}}(\\boldsymbol{\\tilde{x}_{i}})^{\\mathrm{T}}\\right)\\theta_0 + \\left(\\sum_{i=1}^{n}\\boldsymbol{\\tilde{x}_{i}}(\\boldsymbol{\\tilde{x}_{i}})^{\\mathrm{T}}\\right)^{-1} \\sum_{i=1}^{n}\\boldsymbol{\\tilde{x}_{i}}\\epsilon_i \\\\\n",
    "E(\\hat\\theta | \\boldsymbol{X}) & = \\theta_0 + \\left(\\sum_{i=1}^{n}\\boldsymbol{\\tilde{x}_{i}}(\\boldsymbol{\\tilde{x}_{i}})^{\\mathrm{T}}\\right)^{-1} \\sum_{i=1}^{n}\\boldsymbol{\\tilde{x}_{i}} E(\\epsilon_i | \\boldsymbol{X}) \\\\\n",
    "& = \\theta_0 \\\\\n",
    "E(\\hat\\theta) & = E( E(\\hat\\theta | \\boldsymbol{X}) ) = E(\\theta_0) = \\theta_0\n",
    "\\end{aligned}\n",
    "$$\n"
   ]
  },
  {
   "cell_type": "markdown",
   "id": "8c0ab0e5",
   "metadata": {},
   "source": [
    "# 回归模型"
   ]
  },
  {
   "cell_type": "markdown",
   "id": "a3927253",
   "metadata": {},
   "source": [
    "### 习题1\n",
    "基于估计量\n",
    "$$\\hat{\\boldsymbol{\\theta}}=(\\boldsymbol{X}^{\\mathrm{T}}\\boldsymbol{X})^{-1}\\boldsymbol{X}^{\\mathrm{T}}\\boldsymbol{Y} \\tag{11}$$\n",
    "所得到的 $\\hat{\\boldsymbol{\\theta}}$ 是否满足 $\\sum_{i=1}^n(y_i-\\tilde{\\boldsymbol{x}}_i^\\mathrm{T}\\hat{\\boldsymbol{\\theta}})=0$？为什么？"
   ]
  },
  {
   "cell_type": "markdown",
   "id": "2071f142",
   "metadata": {},
   "source": [
    "解：满足。注意到\n",
    "$$ \\boldsymbol{X}^{\\mathrm{T}}(\\boldsymbol{Y}-\\boldsymbol{X}\\hat{\\boldsymbol{\\theta}})=\\boldsymbol{0},$$\n",
    "其中 \n",
    "$$\n",
    "\\boldsymbol{X}^{\\mathrm{T}}\n",
    "= (\\tilde{\\boldsymbol{x}}_1,\\ldots,\\tilde{\\boldsymbol{x}}_n)\n",
    "= \\begin{bmatrix}\n",
    "1 & 1 & \\cdots & 1 \\\\\n",
    "\\boldsymbol{x}_1 & \\boldsymbol{x}_2 & \\cdots & \\boldsymbol{x}_n \\\\\n",
    "\\end{bmatrix}\n",
    "$$\n",
    "因此我们有\n",
    "$$\n",
    "(1, 1, \\cdots, 1) (\\boldsymbol{Y}-\\boldsymbol{X}\\hat{\\boldsymbol{\\theta}}) = \\sum_{i=1}^n(y_i-\\tilde{\\boldsymbol{x}}_i^\\mathrm{T}\\hat{\\boldsymbol{\\theta}}) = 0\n",
    "$$"
   ]
  },
  {
   "cell_type": "markdown",
   "id": "5e119d35",
   "metadata": {},
   "source": [
    "### 习题2"
   ]
  },
  {
   "cell_type": "markdown",
   "id": "2dafa4b9",
   "metadata": {},
   "source": [
    "记 \n",
    "$\\boldsymbol{x}=(x_1,\\ldots,x_d)^\\mathrm{т}\\in\\mathbb{R}^d$, \n",
    "$\\boldsymbol{a}=(a_1,\\ldots,a_d)^\\mathrm{т}\\in\\mathbb{R}^d$, \n",
    "$\\boldsymbol{A}=(a_{ij})\\in\\mathbb{R}^{d\\times d}$ 回答如下问题：\n",
    "\n",
    "### 2.1 \n",
    "假设向量 $\\boldsymbol{a}$ 为定值，考虑关于 $\\boldsymbol{x}$ 的函数 $f(\\boldsymbol{x})=\\boldsymbol{x}^\\mathrm{T}\\boldsymbol{a}=\\sum_{i=1}^dx_ia_i$。对于$i=1,\\ldots,d,$ 计算 $\\partial f(\\boldsymbol{x})/\\partial x_i$ 并证明如下结论：\n",
    "$$\\frac{\\partial f(\\boldsymbol{x})}{\\partial \\boldsymbol{x}} = \\boldsymbol{a}.$$"
   ]
  },
  {
   "cell_type": "markdown",
   "id": "932619b8",
   "metadata": {},
   "source": [
    "解：显然 $\\partial f(\\boldsymbol{x})/\\partial x_i = a_i$。\n",
    "由定义 \n",
    "$$\n",
    "\\frac{\\partial f(\\boldsymbol{x})}{\\partial \\boldsymbol{x}} = \n",
    "\\begin{bmatrix}\n",
    "\\partial f(\\boldsymbol{x})/\\partial x_1 \\\\\n",
    "\\vdots \\\\\n",
    "\\partial f(\\boldsymbol{x})/\\partial x_n\n",
    "\\end{bmatrix} = \n",
    "\\begin{bmatrix}\n",
    "a_1 \\\\\n",
    "\\vdots \\\\\n",
    "a_n\n",
    "\\end{bmatrix} = \n",
    "\\boldsymbol{a}.\n",
    "$$"
   ]
  },
  {
   "cell_type": "markdown",
   "id": "2f5764ab",
   "metadata": {},
   "source": [
    "#### 2.2 \n",
    "假设矩阵 $\\boldsymbol{A}$为定值，考虑关于 $\\boldsymbol{x}$的函数\n",
    "$g(\\boldsymbol{x})=\\boldsymbol{x}^\\mathrm{T}\\boldsymbol{A}\\boldsymbol{x}=\\sum_{i=1}^d\\sum_{j=1}^da_{ij}x_ix_j$。\n",
    "对于$i=1,\\ldots,d$ 以及 $j=1,\\ldots,d$ 计算 \n",
    "$\\partial g(\\boldsymbol{x})/\\partial x_i$ \n",
    "以及 \n",
    "$\\partial^2g(\\boldsymbol{x})/(\\partial x_i\\partial x_j)$，\n",
    "并证明如下两个结论：\n",
    "$$ \\frac{\\partial g(\\boldsymbol{x})}{\\partial\\boldsymbol{x}}=(\\boldsymbol{A}+\\boldsymbol{A}^\\mathrm{T})\\boldsymbol{x}, $$\n",
    "$$ \\frac{\\partial^2g(\\boldsymbol{x})}{\\partial\\boldsymbol{x}^\\mathrm{T}\\partial\\boldsymbol{x}}=\\boldsymbol{A}+\\boldsymbol{A}^\\mathrm{T}。 $$"
   ]
  },
  {
   "cell_type": "markdown",
   "id": "35f1b0db",
   "metadata": {},
   "source": [
    "解：注意到\n",
    "$$\n",
    " \\frac{\\partial g(\\boldsymbol{x})}{\\partial x_k }\n",
    "= \\sum_{j=1}^d a_{kj} x_j + \\sum_{i=1}^d a_{ik}x_i\n",
    "= \\boldsymbol{a_{k \\cdot}} \\boldsymbol{x} + \\boldsymbol{a^{\\mathrm{T}}_{\\cdot k}} \\boldsymbol{x} \\quad \\forall k = 1, \\ldots, d\n",
    "$$\n",
    "其中$\\boldsymbol{a_{k \\cdot}}$是$\\boldsymbol{A}$的第$k$行，$\\boldsymbol{a_{\\cdot k}}$是$\\boldsymbol{A}$的第$k$列。因此$\\partial g(\\boldsymbol{x})/\\partial x_k $是$(\\boldsymbol{A}+\\boldsymbol{A}^\\mathrm{T})\\boldsymbol{x}$的第$k$行。\n",
    "由定义，\n",
    "$$\n",
    "\\frac{\\partial g(\\boldsymbol{x})}{\\partial\\boldsymbol{x}} = \n",
    "\\begin{bmatrix}\n",
    "\\partial g(\\boldsymbol{x})/\\partial x_1 \\\\\n",
    "\\vdots \\\\\n",
    "\\partial g(\\boldsymbol{x})/\\partial x_d\n",
    "\\end{bmatrix}\n",
    "= (\\boldsymbol{A}+\\boldsymbol{A}^\\mathrm{T})\\boldsymbol{x}.\n",
    "$$\n",
    "注意到\n",
    "$$\n",
    "\\frac{\\partial^2 g(\\boldsymbol{x})}{\\partial x_k\\partial x_l} = \n",
    "\\frac{\\partial (\\sum_{j=1}^d a_{kj} x_j + \\sum_{i=1}^d a_{ik}x_i)}{\\partial x_l} = a_{kl} + a_{lk} \\quad (\\boldsymbol{A}+\\boldsymbol{A}^\\mathrm{T}\\text{的$k$行$l$列元素})\n",
    "$$\n",
    "由定义\n",
    "$$ \\frac{\\partial^2g(\\boldsymbol{x})}{\\partial\\boldsymbol{x}^\\mathrm{T}\\partial\\boldsymbol{x}}\n",
    "=\n",
    "\\begin{bmatrix}\n",
    "\\frac{\\partial^2g(\\boldsymbol{x})}{\\partial x_{11}} & \\cdots & \\frac{\\partial^2g(\\boldsymbol{x})}{\\partial x_{1d}} \\\\\n",
    "\\vdots &  & \\vdots \\\\\n",
    "\\frac{\\partial^2g(\\boldsymbol{x})}{\\partial x_{d1}} & \\cdots & \\frac{\\partial^2g(\\boldsymbol{x})}{\\partial x_{dd}}\n",
    "\\end{bmatrix} \n",
    "= \\boldsymbol{A}+\\boldsymbol{A}^\\mathrm{T}\n",
    "$$"
   ]
  },
  {
   "cell_type": "markdown",
   "id": "ef29fb95",
   "metadata": {},
   "source": []
  }
 ],
 "metadata": {
  "kernelspec": {
   "display_name": "mlenv",
   "language": "python",
   "name": "python3"
  },
  "language_info": {
   "codemirror_mode": {
    "name": "ipython",
    "version": 3
   },
   "file_extension": ".py",
   "mimetype": "text/x-python",
   "name": "python",
   "nbconvert_exporter": "python",
   "pygments_lexer": "ipython3",
   "version": "3.12.2"
  }
 },
 "nbformat": 4,
 "nbformat_minor": 5
}
